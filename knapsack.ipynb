{
  "nbformat": 4,
  "nbformat_minor": 0,
  "metadata": {
    "colab": {
      "name": "knapsack.ipynb",
      "provenance": []
    },
    "kernelspec": {
      "name": "python3",
      "display_name": "Python 3"
    }
  },
  "cells": [
    {
      "cell_type": "code",
      "metadata": {
        "id": "lqrp7fI3lJCK",
        "colab_type": "code",
        "colab": {}
      },
      "source": [
        "class Item(object):\n",
        "    def __init__(self, v, w):\n",
        "        self.value = v\n",
        "        self.weight = w"
      ],
      "execution_count": 0,
      "outputs": []
    },
    {
      "cell_type": "code",
      "metadata": {
        "id": "DzX_7dDym9Fx",
        "colab_type": "code",
        "outputId": "c5434b4f-9f4f-4bfe-e79a-ef9f94462d20",
        "colab": {
          "base_uri": "https://localhost:8080/",
          "height": 1000
        }
      },
      "source": [
        "import random\n",
        "ITEMS = [Item(random.randint(0,30),random.randint(0,30)) for x in range (0,30)]\n",
        "CAPACITY = 10*len(ITEMS)\n",
        "POP_SIZE = 50\n",
        "GEN_MAX = 200\n",
        "START_POP_WITH_ZEROES = False\n",
        "def fitness(target):\n",
        "    total_value = 0\n",
        "    total_weight = 0\n",
        "    index = 0\n",
        "    for i in target:        \n",
        "        if index >= len(ITEMS):\n",
        "            break\n",
        "        if (i == 1):\n",
        "            total_value += ITEMS[index].value\n",
        "            total_weight += ITEMS[index].weight\n",
        "        index += 1\n",
        "    if total_weight > CAPACITY:\n",
        "        return 0\n",
        "    else:\n",
        "        return total_value\n",
        "def spawn_starting_population(amount):\n",
        "    return [spawn_individual() for x in range (0,amount)]\n",
        "def spawn_individual():\n",
        "    if START_POP_WITH_ZEROES:\n",
        "        return [random.randint(0,0) for x in range (0,len(ITEMS))]\n",
        "    else:\n",
        "        return [random.randint(0,1) for x in range (0,len(ITEMS))]\n",
        "def mutate(target):\n",
        "    r = random.randint(0,len(target)-1)\n",
        "    if target[r] == 1:\n",
        "        target[r] = 0\n",
        "    else:\n",
        "        target[r] = 1\n",
        "def evolve_population(pop):\n",
        "    parent_eligibility = 0.2\n",
        "    mutation_chance = 0.08\n",
        "    parent_lottery = 0.05\n",
        "    parent_length = int(parent_eligibility*len(pop))\n",
        "    parents = pop[:parent_length]\n",
        "    nonparents = pop[parent_length:]\n",
        "    for np in nonparents:\n",
        "        if parent_lottery > random.random():\n",
        "            parents.append(np)\n",
        "    for p in parents:\n",
        "        if mutation_chance > random.random():\n",
        "            mutate(p)\n",
        "    children = []\n",
        "    desired_length = len(pop) - len(parents)\n",
        "    while len(children) < desired_length :\n",
        "        male = pop[random.randint(0,len(parents)-1)]\n",
        "        female = pop[random.randint(0,len(parents)-1)]        \n",
        "        half = int(len(male)/2)\n",
        "        child = male[:half] + female[half:] # from start to half from father, from half to end from mother\n",
        "        if mutation_chance > random.random():\n",
        "            mutate(child)\n",
        "        children.append(child)\n",
        "    parents.extend(children)\n",
        "    return parents\n",
        "def main():\n",
        "    generation = 1\n",
        "    population = spawn_starting_population(POP_SIZE)\n",
        "    for g in range(0,GEN_MAX):\n",
        "        print(generation,len(population))\n",
        "        population = sorted(population, key=lambda x: fitness(x), reverse=True)\n",
        "        for i in population:        \n",
        "            print(str(i), fitness(i))        \n",
        "        population = evolve_population(population)\n",
        "        generation += 1\n",
        "if __name__ == \"__main__\":\n",
        "    main()\n"
      ],
      "execution_count": 0,
    }
  ]
}
