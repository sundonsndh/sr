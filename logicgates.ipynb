{
  "nbformat": 4,
  "nbformat_minor": 0,
  "metadata": {
    "colab": {
      "name": "logicgates.ipynb",
      "provenance": []
    },
    "kernelspec": {
      "name": "python3",
      "display_name": "Python 3"
    }
  },
  "cells": [
    {
      "cell_type": "code",
      "metadata": {
        "id": "D-y9z6NueXvH",
        "colab_type": "code",
        "outputId": "29176d9d-46da-4389-c636-6dea6580cb9c",
        "colab": {
          "base_uri": "https://localhost:8080/",
          "height": 753
        }
      },
      "source": [
        "import numpy as np\n",
        "def perceptron(weights, inputs, bias):\n",
        "    model = np.add(np.dot(inputs, weights), bias)\n",
        "    logit = activation_function(model, type=\"sigmoid\")\n",
        "    return np.round(logit)\n",
        "def activation_function(model, type=\"sigmoid\"):\n",
        "    return {\n",
        "        \"sigmoid\": 1 / (1 + np.exp(-model))\n",
        "    }[type]\n",
        "def compute(data, logic_gate, weights, bias):\n",
        "    weights = np.array(weights)\n",
        "    output = np.array([ perceptron(weights, datum, bias) for datum in data ])\n",
        "    return output\n",
        "def print_template(dataset, name, data):\n",
        "    # act = name[6:]\n",
        "    print(\"Logic Function: {}\".format(name.upper()))\n",
        "    print(\"X0\\tX1\\tX2\\tY\")\n",
        "    toPrint = [\"{1}\\t{2}\\t{3}\\t{0}\".format(output, *datas) for datas, output in zip(dataset, data)]\n",
        "    for i in toPrint:\n",
        "        print(i)\n",
        "def main():\n",
        "    dataset = np.array([\n",
        "      [0, 0, 0],\n",
        "      [0, 0, 1],\n",
        "      [0, 1, 0],\n",
        "      [0, 1, 1],\n",
        "      [1, 0, 0],\n",
        "      [1, 0, 1],\n",
        "      [1, 1, 0],\n",
        "      [1, 1, 1]\n",
        "    ])\n",
        "    gates = {\n",
        "        \"and\": compute(dataset, \"and\", [1, 1, 1], -2),\n",
        "        \"or\": compute(dataset, \"or\", [1, 1, 1], -0.9),\n",
        "        \"not\": compute(np.array([ [0], [1] ]), \"not\", [-1], 1),\n",
        "        \"nand\": compute(dataset, \"nand\", [-1, -1, -1], 3),\n",
        "        \"nor\": compute(dataset, \"nor\", [-1, -1, -1], 1)\n",
        "    }\n",
        "\n",
        "    for gate in gates:\n",
        "        print_template(dataset, gate, gates[gate])\n",
        "if __name__ == '__main__':\n",
        "    main()"
      ],
      "execution_count": 0,
      "outputs": [
        {
          "output_type": "stream",
          "text": [
            "Logic Function: AND\n",
            "X0\tX1\tX2\tY\n",
            "0\t0\t0\t0.0\n",
            "0\t0\t1\t0.0\n",
            "0\t1\t0\t0.0\n",
            "0\t1\t1\t0.0\n",
            "1\t0\t0\t0.0\n",
            "1\t0\t1\t0.0\n",
            "1\t1\t0\t0.0\n",
            "1\t1\t1\t1.0\n",
            "Logic Function: OR\n",
            "X0\tX1\tX2\tY\n",
            "0\t0\t0\t0.0\n",
            "0\t0\t1\t1.0\n",
            "0\t1\t0\t1.0\n",
            "0\t1\t1\t1.0\n",
            "1\t0\t0\t1.0\n",
            "1\t0\t1\t1.0\n",
            "1\t1\t0\t1.0\n",
            "1\t1\t1\t1.0\n",
            "Logic Function: NOT\n",
            "X0\tX1\tX2\tY\n",
            "0\t0\t0\t1.0\n",
            "0\t0\t1\t0.0\n",
            "Logic Function: NAND\n",
            "X0\tX1\tX2\tY\n",
            "0\t0\t0\t1.0\n",
            "0\t0\t1\t1.0\n",
            "0\t1\t0\t1.0\n",
            "0\t1\t1\t1.0\n",
            "1\t0\t0\t1.0\n",
            "1\t0\t1\t1.0\n",
            "1\t1\t0\t1.0\n",
            "1\t1\t1\t0.0\n",
            "Logic Function: NOR\n",
            "X0\tX1\tX2\tY\n",
            "0\t0\t0\t1.0\n",
            "0\t0\t1\t0.0\n",
            "0\t1\t0\t0.0\n",
            "0\t1\t1\t0.0\n",
            "1\t0\t0\t0.0\n",
            "1\t0\t1\t0.0\n",
            "1\t1\t0\t0.0\n",
            "1\t1\t1\t0.0\n"
          ],
          "name": "stdout"
        }
      ]
    }
  ]
}