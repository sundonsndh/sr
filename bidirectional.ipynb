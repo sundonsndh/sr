{
  "nbformat": 4,
  "nbformat_minor": 0,
  "metadata": {
    "kernelspec": {
      "display_name": "Python 3",
      "language": "python",
      "name": "python3"
    },
    "language_info": {
      "codemirror_mode": {
        "name": "ipython",
        "version": 3
      },
      "file_extension": ".py",
      "mimetype": "text/x-python",
      "name": "python",
      "nbconvert_exporter": "python",
      "pygments_lexer": "ipython3",
      "version": "3.7.4"
    },
    "colab": {
      "name": "bidirectional.ipynb",
      "provenance": []
    }
  },
  "cells": [
    {
      "cell_type": "code",
      "metadata": {
        "id": "shpO8qW4n7tq",
        "colab_type": "code",
        "colab": {
          "base_uri": "https://localhost:8080/",
          "height": 201
        },
        "outputId": "e656ae98-5e06-4ac2-e1b0-869e3fb15c2b"
      },
      "source": [
        "class BAM(object):\n",
        "    def __init__(self, data):\n",
        "        self.AB = []\n",
        "        for item in data:\n",
        "            self.AB.append(\n",
        "                [self.__l_make_bipolar(item[0]),\n",
        "                 self.__l_make_bipolar(item[1])]\n",
        "                )\n",
        "        self.len_x = len(self.AB[0][1])\n",
        "        self.len_y = len(self.AB[0][0])\n",
        "        self.M = [[0 for x in range(self.len_x)] for x in range(self.len_y)]\n",
        "        self.__create_bam()\n",
        "    def __create_bam(self):\n",
        "        for assoc_pair in self.AB:\n",
        "          X = assoc_pair[0]\n",
        "          Y = assoc_pair[1]\n",
        "          for idx, xi in enumerate(X):\n",
        "            for idy, yi in enumerate(Y):\n",
        "              self.M[idx][idy] += xi * yi\n",
        "    def get_assoc(self, A):\n",
        "        A = self.__mult_mat_vec(A)\n",
        "        return self.__threshold(A)\n",
        "    def get_bam_matrix(self):\n",
        "        return self.M\n",
        "    def __mult_mat_vec(self, vec):\n",
        "        v_res = [0] * self.len_x\n",
        "        for x in range(self.len_x):\n",
        "            for y in range(self.len_y):\n",
        "                v_res[x] += vec[y] * self.M[y][x]\n",
        "        return v_res\n",
        "    def __threshold(self, vec):\n",
        "        ret_vec = []\n",
        "        for i in vec:\n",
        "            if i < 0:\n",
        "                ret_vec.append(0)\n",
        "            else:\n",
        "                ret_vec.append(1)\n",
        "        return ret_vec\n",
        "    def __l_make_bipolar(self, vec):\n",
        "        ret_vec = []\n",
        "        for item in vec:\n",
        "            if item == 0:\n",
        "                ret_vec.append(-1)\n",
        "            else:\n",
        "                ret_vec.append(1)\n",
        "        return ret_vec\n",
        "if __name__ == \"__main__\":\n",
        "    data_pairs  = [\n",
        "        [[1, 0, 1, 0, 1, 0], [1, 1, 0, 0]],\n",
        "        [[1, 1, 1, 0, 0, 0], [1, 0, 1, 0]]\n",
        "        ]\n",
        "    b = BAM(data_pairs)\n",
        "    import pprint\n",
        "    pp = pprint.PrettyPrinter(indent=4)\n",
        "    print('Matrix')\n",
        "    pp.pprint(b.get_bam_matrix())\n",
        "    print ('\\n')\n",
        "    print('[1, 0, 1, 0, 1, 0] ---> ', b.get_assoc([1, 0, 1, 0, 1, 0]))\n",
        "    print('[1, 1, 1, 0, 0, 0] ---> ', b.get_assoc([1, 1, 1, 0, 0, 0]))"
      ],
      "execution_count": 2,
      "outputs": [
        {
          "output_type": "stream",
          "text": [
            "Matrix\n",
            "[   [2, 0, 0, -2],\n",
            "    [0, -2, 2, 0],\n",
            "    [2, 0, 0, -2],\n",
            "    [-2, 0, 0, 2],\n",
            "    [0, 2, -2, 0],\n",
            "    [-2, 0, 0, 2]]\n",
            "\n",
            "\n",
            "[1, 0, 1, 0, 1, 0] --->  [1, 1, 0, 0]\n",
            "[1, 1, 1, 0, 0, 0] --->  [1, 0, 1, 0]\n"
          ],
          "name": "stdout"
        }
      ]
    }
  ]
}